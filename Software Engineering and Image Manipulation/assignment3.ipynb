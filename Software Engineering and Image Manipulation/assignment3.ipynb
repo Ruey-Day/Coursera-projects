{
 "cells": [
  {
   "cell_type": "markdown",
   "metadata": {
    "deletable": false,
    "editable": false,
    "nbgrader": {
     "cell_type": "markdown",
     "checksum": "396093c37b0bd95a59aa1721aa93d3d9",
     "grade": false,
     "grade_id": "cell-e752145b912a736b",
     "locked": true,
     "schema_version": 3,
     "solution": false,
     "task": false
    }
   },
   "source": [
    "# Assignment 3: Creating a WordyPy Solver\n",
    "\n",
    "You now understand the rules of _WordyPy_ and how to read the game state from an image. Now your job is to read in a\n",
    "_WordyPy_ partial play and provide a next **good** guess. What's a good guess? A good guess is one which:\n",
    "\n",
    "1. Continues to adhere to the rules of _WordPy_\n",
    "2. Does not repeat words which have already been played\n",
    "3. Uses the knowledge of previous guesses to pick a new good word\n",
    "\n",
    "Unlike previous assignments there are no guardrails for this task -- you can complete this using whatever software\n",
    "architecture you like! In addition, I've put my code in a new module for you to import, called `wordy`. You can just\n",
    "import this module and begin making calls to it. You should be able to understand how it works by reading the module\n",
    "documentation.\n"
   ]
  },
  {
   "cell_type": "code",
   "execution_count": 17,
   "metadata": {
    "deletable": false,
    "nbgrader": {
     "cell_type": "code",
     "checksum": "456f642a4d7c230cb02ebe5b4b37554e",
     "grade": false,
     "grade_id": "cell-e758e760b1c54767",
     "locked": false,
     "schema_version": 3,
     "solution": true,
     "task": false
    },
    "tags": []
   },
   "outputs": [],
   "source": [
    "import wordy\n",
    "import PIL\n",
    "import pytesseract\n",
    "\n",
    "def solution(board: PIL.Image) -> str:\n",
    "    board_text = pytesseract.image_to_string(board)\n",
    "    \n",
    "    # Step 2: Process the extracted text to get the played words\n",
    "    played_words = []\n",
    "    for line in board_text.splitlines():\n",
    "        # Clean up and only take non-empty lines\n",
    "        if line.strip():\n",
    "            played_words.append(line.strip())\n",
    "\n",
    "    # Step 3: Use the knowledge of previous guesses to generate a new guess\n",
    "    possible_words = generate_candidate_words(played_words)\n",
    "    \n",
    "    # Step 4: Find a valid guess that hasn't been played\n",
    "    for word in possible_words:\n",
    "        possible_words.remove(word)\n",
    "        return word\n",
    "    \n",
    "    # Fallback if no valid guess found\n",
    "    return \"No valid guess found\"\n",
    "def generate_candidate_words(played_words):\n",
    "    # This function should implement logic to generate possible words\n",
    "    # For simplicity, let's say we have a small predefined list of candidate words\n",
    "    # In a real scenario, you might pull from a larger dictionary or word list\n",
    "    candidate_words = [\"apple\", \"grape\", \"peach\", \"berry\", \"melon\"]\n",
    "    \n",
    "    # Filter out candidate words that have already been played\n",
    "    return [word for word in candidate_words if word not in played_words]\n",
    "\n",
    "\n",
    "# Loop to play multiple rounds of the game"
   ]
  },
  {
   "cell_type": "code",
   "execution_count": 18,
   "metadata": {
    "deletable": false,
    "editable": false,
    "nbgrader": {
     "cell_type": "code",
     "checksum": "a1eba9346dda9330e338d3ac2792c4bb",
     "grade": true,
     "grade_id": "cell-ae995a0f4243235e",
     "locked": true,
     "points": 1,
     "schema_version": 3,
     "solution": false,
     "task": false
    },
    "tags": []
   },
   "outputs": [],
   "source": [
    "# The autograder for this assignment is easy, it will try and play\n",
    "# a few rounds of the game and ensure that errors are not thrown. If\n",
    "# you can make it through five rounds we'll assume you have the right\n",
    "# solution!\n",
    "#\n",
    "# You SHOULD NOT change anything in the wordy module, instead you\n",
    "# must figure out how to write the solution() function in this notebook\n",
    "# to make a good guess based on the board state!\n",
    "\n",
    "for i in range(5):\n",
    "    try:\n",
    "        # Get an image of the current board state from wordy.\n",
    "        # Note that the image contains some number of random guesses (always less than 5 guesses).\n",
    "        image = wordy.get_board_state()\n",
    "        # Create a new *good* guess based on the image and rules of wordy\n",
    "        new_guess = solution(image)  # your code goes in solution()!\n",
    "        # Send that guess to wordy to make sure it doesn't throw any errors\n",
    "        wordy.make_guess(new_guess)\n",
    "    except Exception as e:\n",
    "        raise e"
   ]
  },
  {
   "cell_type": "code",
   "execution_count": null,
   "metadata": {},
   "outputs": [],
   "source": []
  }
 ],
 "metadata": {
  "kernelspec": {
   "display_name": "Python 3 (ipykernel)",
   "language": "python",
   "name": "python3"
  },
  "language_info": {
   "codemirror_mode": {
    "name": "ipython",
    "version": 3
   },
   "file_extension": ".py",
   "mimetype": "text/x-python",
   "name": "python",
   "nbconvert_exporter": "python",
   "pygments_lexer": "ipython3",
   "version": "3.11.6"
  },
  "vscode": {
   "interpreter": {
    "hash": "e42e32cf910e3ef8621fd44f66925230a95020be1defc7567e14c59ff2dff1ed"
   }
  }
 },
 "nbformat": 4,
 "nbformat_minor": 4
}
